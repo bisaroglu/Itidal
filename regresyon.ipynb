{
 "cells": [
  {
   "cell_type": "markdown",
   "id": "3d123704",
   "metadata": {},
   "source": [
    "## Verilerin Lineer Regresyon ile Tahmin Edilmesi"
   ]
  },
  {
   "cell_type": "code",
   "execution_count": null,
   "id": "51db24a6",
   "metadata": {},
   "outputs": [],
   "source": [
    "import pandas as pd\n",
    "import numpy as np\n",
    "import "
   ]
  }
 ],
 "metadata": {
  "language_info": {
   "name": "python"
  }
 },
 "nbformat": 4,
 "nbformat_minor": 5
}
