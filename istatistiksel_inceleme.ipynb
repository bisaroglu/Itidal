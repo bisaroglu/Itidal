{
 "cells": [
  {
   "cell_type": "markdown",
   "id": "d76c3b7b",
   "metadata": {},
   "source": [
    "## Verilerin istattistiksel olarak incelenmesi ve aykırı değerlerin ayıklanması"
   ]
  },
  {
   "cell_type": "markdown",
   "id": "549160d7",
   "metadata": {},
   "source": [
    "### Gerekli Paket ve modüllerin yüklenmesi"
   ]
  },
  {
   "cell_type": "code",
   "execution_count": 1,
   "id": "a8bf76f8",
   "metadata": {},
   "outputs": [],
   "source": [
    "import numpy as np\n",
    "import pandas as pd\n",
    "import matplotlib.pyplot as plt"
   ]
  },
  {
   "cell_type": "markdown",
   "id": "202ac6b3",
   "metadata": {},
   "source": [
    "### Verilerin yüklenmesi"
   ]
  },
  {
   "cell_type": "code",
   "execution_count": 2,
   "id": "87b469b8",
   "metadata": {},
   "outputs": [
    {
     "name": "stdout",
     "output_type": "stream",
     "text": [
      "<class 'pandas.core.frame.DataFrame'>\n",
      "RangeIndex: 239 entries, 0 to 238\n",
      "Data columns (total 9 columns):\n",
      " #   Column        Non-Null Count  Dtype \n",
      "---  ------        --------------  ----- \n",
      " 0   city          239 non-null    object\n",
      " 1   district      239 non-null    object\n",
      " 2   neighborhood  239 non-null    object\n",
      " 3   room          239 non-null    int64 \n",
      " 4   living_room   239 non-null    int64 \n",
      " 5   area          239 non-null    int64 \n",
      " 6   age           239 non-null    int64 \n",
      " 7   floor         239 non-null    int64 \n",
      " 8   price         239 non-null    int64 \n",
      "dtypes: int64(6), object(3)\n",
      "memory usage: 16.9+ KB\n",
      "None\n"
     ]
    }
   ],
   "source": [
    "df= pd.read_csv(\"data.csv\")\n",
    "print(df.info())"
   ]
  },
  {
   "cell_type": "code",
   "execution_count": 3,
   "id": "35afa558",
   "metadata": {},
   "outputs": [
    {
     "name": "stdout",
     "output_type": "stream",
     "text": [
      "<class 'pandas.core.frame.DataFrame'>\n",
      "RangeIndex: 239 entries, 0 to 238\n",
      "Data columns (total 9 columns):\n",
      " #   Column        Non-Null Count  Dtype   \n",
      "---  ------        --------------  -----   \n",
      " 0   city          239 non-null    category\n",
      " 1   district      239 non-null    category\n",
      " 2   neighborhood  239 non-null    category\n",
      " 3   room          239 non-null    int64   \n",
      " 4   living_room   239 non-null    int64   \n",
      " 5   area          239 non-null    int64   \n",
      " 6   age           239 non-null    int64   \n",
      " 7   floor         239 non-null    int64   \n",
      " 8   price         239 non-null    int64   \n",
      "dtypes: category(3), int64(6)\n",
      "memory usage: 17.8 KB\n",
      "None\n"
     ]
    }
   ],
   "source": [
    "df[\"city\"]= df[\"city\"].astype(\"category\")\n",
    "df[\"district\"]= df[\"district\"].astype(\"category\")\n",
    "df[\"neighborhood\"]= df[\"neighborhood\"].astype(\"category\")\n",
    "df[\"room\"]= df[\"room\"].astype(\"int64\")\n",
    "df[\"living_room\"]= df[\"living_room\"].astype(\"int64\")\n",
    "df[\"area\"]= df[\"area\"].astype(\"int64\")\n",
    "df[\"age\"]= df[\"age\"].astype(\"int64\")\n",
    "df[\"floor\"]= df[\"floor\"].astype(\"int64\")\n",
    "df[\"price\"]= df[\"price\"].astype(\"int64\")\n",
    "print(df.info())"
   ]
  },
  {
   "cell_type": "markdown",
   "id": "d590f5d0",
   "metadata": {},
   "source": [
    "### Nümerik değişkenlerin minimum, maximum ve çeyrekliik değerlerin bulunması"
   ]
  },
  {
   "cell_type": "code",
   "execution_count": 4,
   "id": "c56a23a2",
   "metadata": {},
   "outputs": [
    {
     "name": "stdout",
     "output_type": "stream",
     "text": [
      "column: room, min: -0.5,max 3.5\n",
      "column: living_room, min: 1.0,max 1.0\n",
      "column: area, min: -27.0,max 205.0\n",
      "column: age, min: -15.0,max 25.0\n",
      "column: floor, min: -2.0,max 6.0\n",
      "column: price, min: 3000.0,max 27000.0\n"
     ]
    }
   ],
   "source": [
    "columns= df.select_dtypes(include=[np.number]).columns\n",
    "min_values = []\n",
    "max_values = []\n",
    "for column in columns:\n",
    "    Q1 = df[column].quantile(0.25)\n",
    "    Q3 = df[column].quantile(0.75)\n",
    "    IQR = Q3-Q1\n",
    "    min_value = Q1 - 1.5 * IQR\n",
    "    max_value = Q3 + 1.5 * IQR\n",
    "    min_values.append(min_value)\n",
    "    max_values.append(max_value)\n",
    "    print(f\"column: {column}, min: {min_value},max {max_value}\")\n",
    "\n"
   ]
  },
  {
   "cell_type": "markdown",
   "id": "e66bd92a",
   "metadata": {},
   "source": []
  },
  {
   "cell_type": "markdown",
   "id": "f5bafb1a",
   "metadata": {},
   "source": [
    "### Aykırı Değerlerin temizlenmesi"
   ]
  },
  {
   "cell_type": "code",
   "execution_count": 5,
   "id": "01980cf4",
   "metadata": {},
   "outputs": [],
   "source": [
    "for i, column in enumerate(columns):\n",
    "    df = df[(df[column]>= min_values[i])& (df[column]<= max_values[i])]\n"
   ]
  },
  {
   "cell_type": "code",
   "execution_count": 6,
   "id": "d36d63bb",
   "metadata": {},
   "outputs": [
    {
     "name": "stdout",
     "output_type": "stream",
     "text": [
      "<class 'pandas.core.frame.DataFrame'>\n",
      "Index: 211 entries, 1 to 238\n",
      "Data columns (total 9 columns):\n",
      " #   Column        Non-Null Count  Dtype   \n",
      "---  ------        --------------  -----   \n",
      " 0   city          211 non-null    category\n",
      " 1   district      211 non-null    category\n",
      " 2   neighborhood  211 non-null    category\n",
      " 3   room          211 non-null    int64   \n",
      " 4   living_room   211 non-null    int64   \n",
      " 5   area          211 non-null    int64   \n",
      " 6   age           211 non-null    int64   \n",
      " 7   floor         211 non-null    int64   \n",
      " 8   price         211 non-null    int64   \n",
      "dtypes: category(3), int64(6)\n",
      "memory usage: 17.9 KB\n",
      "None\n"
     ]
    }
   ],
   "source": [
    "print(df.info())\n"
   ]
  },
  {
   "cell_type": "code",
   "execution_count": 7,
   "id": "cdb42be1",
   "metadata": {},
   "outputs": [
    {
     "name": "stdout",
     "output_type": "stream",
     "text": [
      "             room  living_room        area         age       floor  \\\n",
      "count  211.000000        211.0  211.000000  211.000000  211.000000   \n",
      "mean     1.819905          1.0   90.630332    5.928910    2.241706   \n",
      "std      0.694044          0.0   33.835116    5.525669    1.506609   \n",
      "min      1.000000          1.0   31.000000    0.000000   -1.000000   \n",
      "25%      1.000000          1.0   60.000000    0.000000    1.000000   \n",
      "50%      2.000000          1.0   85.000000    5.000000    2.000000   \n",
      "75%      2.000000          1.0  110.000000   10.000000    3.000000   \n",
      "max      3.000000          1.0  190.000000   15.000000    6.000000   \n",
      "\n",
      "              price  \n",
      "count    211.000000  \n",
      "mean   15127.962085  \n",
      "std     4180.194245  \n",
      "min     5000.000000  \n",
      "25%    12000.000000  \n",
      "50%    15000.000000  \n",
      "75%    18000.000000  \n",
      "max    25000.000000  \n"
     ]
    }
   ],
   "source": [
    "print(df.describe())"
   ]
  },
  {
   "cell_type": "code",
   "execution_count": 9,
   "id": "4c7d7f0c",
   "metadata": {},
   "outputs": [],
   "source": [
    "df.to_csv(\"data_cleaned.csv\", index=False)"
   ]
  },
  {
   "cell_type": "code",
   "execution_count": null,
   "id": "2a98bb77",
   "metadata": {},
   "outputs": [],
   "source": []
  }
 ],
 "metadata": {
  "kernelspec": {
   "display_name": "base",
   "language": "python",
   "name": "python3"
  },
  "language_info": {
   "codemirror_mode": {
    "name": "ipython",
    "version": 3
   },
   "file_extension": ".py",
   "mimetype": "text/x-python",
   "name": "python",
   "nbconvert_exporter": "python",
   "pygments_lexer": "ipython3",
   "version": "3.12.3"
  }
 },
 "nbformat": 4,
 "nbformat_minor": 5
}
